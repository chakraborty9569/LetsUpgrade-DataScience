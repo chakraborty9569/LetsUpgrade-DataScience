{
 "cells": [
  {
   "cell_type": "markdown",
   "metadata": {},
   "source": [
    "# Question 1"
   ]
  },
  {
   "cell_type": "code",
   "execution_count": 1,
   "metadata": {},
   "outputs": [
    {
     "name": "stdout",
     "output_type": "stream",
     "text": [
      "[ 2  5  8 11 14 17 20 23 26 29 32 35 38 41 44 47 50]\n"
     ]
    }
   ],
   "source": [
    "import numpy as np\n",
    "arr=np.arange(2,50+1,3)\n",
    "print(arr)"
   ]
  },
  {
   "cell_type": "markdown",
   "metadata": {},
   "source": [
    "# Question 2"
   ]
  },
  {
   "cell_type": "code",
   "execution_count": 2,
   "metadata": {},
   "outputs": [
    {
     "name": "stdout",
     "output_type": "stream",
     "text": [
      "2\n",
      "6\n",
      "5\n",
      "4\n",
      "1\n",
      "[2, 6, 5, 4, 1]\n",
      "\n",
      "3\n",
      "9\n",
      "21\n",
      "13\n",
      "26\n",
      "[3, 9, 21, 13, 26]\n",
      "\n",
      "[ 2  6  5  4  1  3  9 21 13 26]\n"
     ]
    }
   ],
   "source": [
    "l1=[]\n",
    "for i in range(5):\n",
    "    x=int(input())\n",
    "    l1.append(x)\n",
    "print(l1)\n",
    "print()\n",
    "\n",
    "l2=[]\n",
    "for i in range(5):\n",
    "    y=int(input())\n",
    "    l2.append(y)\n",
    "print(l2)\n",
    "print()\n",
    "\n",
    "arr1 = np.array(l1)\n",
    "arr2 = np.array(l2)\n",
    "arr3 = np.concatenate( (arr1,arr2) )\n",
    "print(arr3)"
   ]
  },
  {
   "cell_type": "code",
   "execution_count": 3,
   "metadata": {},
   "outputs": [
    {
     "name": "stdout",
     "output_type": "stream",
     "text": [
      "[ 1  2  3  4  5  6  9 13 21 26]\n"
     ]
    }
   ],
   "source": [
    "# sorting the arrays\n",
    "print(np.sort(arr3))"
   ]
  },
  {
   "cell_type": "markdown",
   "metadata": {},
   "source": [
    "# Question 3"
   ]
  },
  {
   "cell_type": "raw",
   "metadata": {},
   "source": [
    "Code snippet to find the dimensions of a ndarray and its size."
   ]
  },
  {
   "cell_type": "code",
   "execution_count": 4,
   "metadata": {},
   "outputs": [
    {
     "name": "stdout",
     "output_type": "stream",
     "text": [
      "[[1 2]\n",
      " [3 4]\n",
      " [6 9]]\n",
      "(3, 2)\n",
      "6\n"
     ]
    }
   ],
   "source": [
    "a = np.array([[1,2],[3,4],[6,9]])\n",
    "print(a)\n",
    "print(a.shape)\n",
    "print(a.size)"
   ]
  },
  {
   "cell_type": "markdown",
   "metadata": {},
   "source": [
    "# Question 4"
   ]
  },
  {
   "cell_type": "code",
   "execution_count": 6,
   "metadata": {},
   "outputs": [
    {
     "name": "stdout",
     "output_type": "stream",
     "text": [
      "[2 5 6 1 9]\n",
      "(5,)\n",
      "\n",
      "[[2 5 6 1 9]]\n",
      "(1, 5)\n"
     ]
    }
   ],
   "source": [
    "# 1-D array\n",
    "a_1d = np.array([2,5,6,1,9])\n",
    "\n",
    "# 2-D array\n",
    "a_2d = a_1d[np.newaxis]\n",
    "\n",
    "print(a_1d)\n",
    "print(a_1d.shape)\n",
    "print()\n",
    "print(a_2d)\n",
    "print(a_2d.shape)"
   ]
  },
  {
   "cell_type": "markdown",
   "metadata": {},
   "source": [
    "# Question 5"
   ]
  },
  {
   "cell_type": "code",
   "execution_count": 7,
   "metadata": {},
   "outputs": [
    {
     "name": "stdout",
     "output_type": "stream",
     "text": [
      "Vertical Stacking\n",
      "[[1 2]\n",
      " [3 4]\n",
      " [5 6]\n",
      " [7 8]]\n",
      "\n",
      "Horizontal Stacking\n",
      "[[1 2 5 6]\n",
      " [3 4 7 8]]\n"
     ]
    }
   ],
   "source": [
    "sa1 = np.array([[1,2],[3,4]])\n",
    "sa2 = np.array([[5,6],[7,8]])\n",
    "\n",
    "print(\"Vertical Stacking\")\n",
    "print(np.vstack((sa1,sa2)))\n",
    "print()\n",
    "print(\"Horizontal Stacking\")\n",
    "print(np.hstack((sa1,sa2)))"
   ]
  },
  {
   "cell_type": "markdown",
   "metadata": {},
   "source": [
    "# Question 6"
   ]
  },
  {
   "cell_type": "code",
   "execution_count": 10,
   "metadata": {},
   "outputs": [
    {
     "name": "stdout",
     "output_type": "stream",
     "text": [
      "Unique Items: [ 5  6  8  9 10 12 20]\n",
      "Count: [3 1 2 2 2 1 2]\n"
     ]
    }
   ],
   "source": [
    "ar = np.array([5,6,8,5,9,10,20,10,5,8,9,20,12])\n",
    "unique, freq = np.unique(ar, return_counts = True)\n",
    "print(\"Unique Items:\",unique)\n",
    "print(\"Count:\",freq)"
   ]
  },
  {
   "cell_type": "code",
   "execution_count": null,
   "metadata": {},
   "outputs": [],
   "source": []
  }
 ],
 "metadata": {
  "kernelspec": {
   "display_name": "Python 3",
   "language": "python",
   "name": "python3"
  },
  "language_info": {
   "codemirror_mode": {
    "name": "ipython",
    "version": 3
   },
   "file_extension": ".py",
   "mimetype": "text/x-python",
   "name": "python",
   "nbconvert_exporter": "python",
   "pygments_lexer": "ipython3",
   "version": "3.7.6"
  }
 },
 "nbformat": 4,
 "nbformat_minor": 4
}
